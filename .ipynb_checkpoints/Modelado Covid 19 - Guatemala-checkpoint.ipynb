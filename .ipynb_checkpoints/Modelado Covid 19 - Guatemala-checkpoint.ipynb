{
 "cells": [
  {
   "cell_type": "markdown",
   "metadata": {},
   "source": [
    "# Modelado del Covid-19 para Guatemala."
   ]
  },
  {
   "cell_type": "markdown",
   "metadata": {},
   "source": [
    "El objetivo principal es utilizar data real obtenida del crecimiento del virus COVID-19 en Guatemala, a fin de brindar un panorama aproximado de nuestro caso en el país.\n",
    "\n",
    "El dataset se obtuvo de la página oficial del MPSAS https://www.mspas.gob.gt/index.php/noticias/covid-19/casos . Se incluye además otro set de datos de https://dataverse.harvard.edu/dataset.xhtml?persistentId=doi:10.7910/DVN/L20LOT con el nombre de $country\\_confirmed$, para realizar otras pruebas de ajuste o bien, comparar los resultados del modelo. \n",
    "\n",
    "El modelo de aproximacion usa $mean\\ square$ y fue un modelo obtenido de: https://numbersandshapes.net/post/fitting_sir_to_data_in_python/\n",
    "\n",
    "El modelo SEIR es un modelo que, agregado al las tres variables conocidas del SIR, agrega una más, los expuestos. Esta variable indica cuantas personas pueden llegar a ser expuestas por el virus y por ende, aumentar el número de contagiados. \n",
    "\n",
    "Dicho modelo se describe a continuación:\n",
    "\n",
    "$\\frac{dS}{dt} = -\\beta*S*I$\n",
    "\n",
    "$\\frac{dE}{dt} = \\beta*S*I - \\delta * E$\n",
    "\n",
    "$\\frac{dI}{dt} = \\delta*E - \\gamma * I$\n",
    "\n",
    "$\\frac{dR}{dt} = \\gamma * I$\n",
    "\n",
    "Finalmente, las estimaciones se hicieron para 1 millón de personas, ya que esto ajusta el modelo de mejor manera. También se muestran los resultados para 17 millones (aproximadamante la población de Guatemala) que da un escenario más real, pero alejado de los datos presentados. \n",
    "\n",
    "Esto solo es un modelo ilustrativo, una forma de orientar como se comporta la enfermedad. Hay que tomar en cuenta otros factores si se deseará modelar por completo y con total certeza esta pandemia"
   ]
  },
  {
   "cell_type": "markdown",
   "metadata": {},
   "source": [
    "## Definición de variables y librerías"
   ]
  },
  {
   "cell_type": "code",
   "execution_count": 17,
   "metadata": {},
   "outputs": [],
   "source": [
    "import matplotlib.pyplot as plt\n",
    "import numpy as np\n",
    "from scipy.integrate import solve_ivp\n",
    "from scipy.optimize import minimize\n",
    "import matplotlib.animation as animation\n",
    "from datetime import date"
   ]
  },
  {
   "cell_type": "code",
   "execution_count": 57,
   "metadata": {},
   "outputs": [],
   "source": [
    "datos_gt = [1,1,2,6,6,+\n",
    "         9,12,17,19,20,21,24,25,28,34,34,36,38,39,47,+\n",
    "         50,61,61,70,77,87,95,126,137,155,156,167,180,+\n",
    "         196,214,235,257,289,294,316,384,430,473,500,+\n",
    "         530,530,557,599,644,688,703,730,763,798,832,900,+\n",
    "         967,1052,1114,1199,1342,1518,1643,1763,1763,1912,+\n",
    "         2133,2265,2512,2743,3054,3424,3760,3954,4145,4348,4607,4739,5087,5336,5586,5760,6154,6485,6792]\n",
    "\n",
    "datos_gt_reales2 = [1,2,3,6,6,8,9,13,17,19,21,21,24,25,28,34,+\n",
    "                   36,36,39,46,47,50,61,70,74,80,87,126,137,153,+\n",
    "                   156,167,180,196,214,235,257,289,294,316,342,384,+\n",
    "                   430,473,500,530,557,585,599,644,688,703,730,763,798,+\n",
    "                   832,900,967,1052,1114,1199,1342,1518,1643,1763,1912,2001,+\n",
    "                   2133,2265,2512,2743,3054,3424,3760,3954,4145,4348,4607,4739,+\n",
    "                   5087,5336,5586,5760,6154,6485,6792,7055,7502,7866,8221,8561,8982,+\n",
    "                   9491,9845,10272,10706,11251,11868]\n",
    "\n",
    "datos_gt_reales3 = [1,2,2,5,5,7,8,12,16,18,20,20,19,19,22,23,25,25,+\n",
    "            26,33,34,37,44,52,54,60,67,106,115,130,131,142,155,+\n",
    "            171,185,206,227,258,261,282,305,341,387,413,434,464,477,+\n",
    "            502,515,554,597,612,630,663,689,717,773,837,914,975,1050,1190,+\n",
    "            1358,1476,1590,1737,1822,1933,2059,2240,2468,2753,3106,3425,3600,+\n",
    "            3582,3701,3867,3929,4242,4423,4637,4686,5015,5214,5427,5540,5910,6162,+\n",
    "            6399,6658,6927,7318,7573,7905,8190,8617]\n",
    "datos_gt_reales = [1,1,1,3,3,2,1,4,4,2,2,0,3,1,3,6,2,0,+\n",
    "                   3,7,1,3,11,9,4,3,7,39,11,16,3,11,13,16,+\n",
    "                   18,21,22,32,5,22,26,42,46,43,27,30,27,28,14,+\n",
    "                   45,44,15,27,33,35,34,68,67,85,62,85,143,176,125,+\n",
    "                   120,149,89,132,132,247,231,311,370,336,194,191,203,+\n",
    "                   259,132,348,249,250,174,394,331,307,263,447,364,355,340,+\n",
    "                   421,509,354,427,434,545]"
   ]
  },
  {
   "cell_type": "markdown",
   "metadata": {},
   "source": [
    "## Función para aproximación del modelo"
   ]
  },
  {
   "cell_type": "code",
   "execution_count": 58,
   "metadata": {},
   "outputs": [],
   "source": [
    "def sumsq(p,info, N, method):\n",
    "    size_data = len(info) #obtiene el tama;o de la data, para calcular arrays equivalentes al set.\n",
    "    \n",
    "    \n",
    "    if method == \"SEIRD\":\n",
    "        solve = 2\n",
    "        beta, gamma,delta, mu = p #extrae los parametros iniciales, los que suponen un aproach o aproximacion a los reales\n",
    "        def SEIRD(t,y): #definiendo nuevamente el modelo SIR para calcular las graficas finales\n",
    "            S = y[0]\n",
    "            E = y[1]\n",
    "            I = y[2]\n",
    "            R = y[3]\n",
    "            D = y[4]\n",
    "            return([-beta*S*I/N, beta*S*I/N-delta*E,delta*E - gamma*I, gamma*I, mu*I]) #definicion del modelo, basado en lo descrito anteriormente\n",
    "        sol = solve_ivp(SEIRD,[0,size_data],[N,0,1,0,0],t_eval=np.arange(0,size_data-0.1,0.2)) #resuelve ecuacion diferencial\n",
    "        #La funcion solve_ivp es un solver mas potente que odeint por lo que se decide usar este\n",
    "        \n",
    "    elif method == \"SEIR\":\n",
    "        solve = 2\n",
    "        beta, gamma,delta = p #extrae los parametros iniciales, los que suponen un aproach o aproximacion a los reales\n",
    "        def SEIR(t,y): #definiendo nuevamente el modelo SIR para calcular las graficas finales\n",
    "            S = y[0]\n",
    "            E = y[1]\n",
    "            I = y[2]\n",
    "            R = y[3]\n",
    "            return([-beta*S*I/N, beta*S*I/N-delta*E,delta*E - gamma*I, gamma*I]) #definicion del modelo, basado en lo descrito anteriormente\n",
    "        sol = solve_ivp(SEIR,[0,size_data],[N,0,1,0],t_eval=np.arange(0,size_data-0.1,0.2)) #resuelve ecuacion diferencial\n",
    "        #La funcion solve_ivp es un solver mas potente que odeint por lo que se decide usar este\n",
    "    else:\n",
    "        print(\"Metodo no encontrado\")\n",
    "        return\n",
    "    return(sum((sol.y[solve][::5]-info)**2)) #retorna la diferencia al cuadrado para minimizar"
   ]
  },
  {
   "cell_type": "markdown",
   "metadata": {},
   "source": [
    "## Definición de los modelos diferenciales para el cálculo de las curvas. "
   ]
  },
  {
   "cell_type": "code",
   "execution_count": 59,
   "metadata": {},
   "outputs": [],
   "source": [
    "def SEIR(t,y,N,params): #definiendo nuevamente el modelo SEIR para calcular las graficas finales\n",
    "    beta = params[0]\n",
    "    gamma = params[1]\n",
    "    delta = params[2]\n",
    "    S = y[0]\n",
    "    E = y[1]\n",
    "    I = y[2]\n",
    "    R = y[3]\n",
    "    return([-beta*S*I/N, beta*S*I/N-delta*E,delta*E - gamma*I, gamma*I]) #definicion del modelo, basado en lo descrito anteriormente"
   ]
  },
  {
   "cell_type": "code",
   "execution_count": 60,
   "metadata": {},
   "outputs": [],
   "source": [
    "def SEIRD(t,y,N,params): #definiendo nuevamente el modelo SIR para calcular las graficas finales\n",
    "    beta = params[0]\n",
    "    gamma = params[1]\n",
    "    delta = params[2]\n",
    "    mu = params[3]\n",
    "    S = y[0]\n",
    "    E = y[1]\n",
    "    I = y[2]\n",
    "    R = y[3]\n",
    "    D = y[4]\n",
    "    return([-beta*S*I/N, beta*S*I/N-delta*E,delta*E - gamma*I, gamma*I, mu*I]) #definicion del modelo, basado en lo descrito anteriormente"
   ]
  },
  {
   "cell_type": "markdown",
   "metadata": {},
   "source": [
    "# Modelo SEIR"
   ]
  },
  {
   "cell_type": "code",
   "execution_count": 61,
   "metadata": {},
   "outputs": [],
   "source": [
    "#Definicion de condiciones iniciales\n",
    "\n",
    "N_gt_1m = 1e6  #Poblacion Guatemala\n",
    "\n",
    "I0 = 1 #Un infectado (para mejor aproximacion)\n",
    "S0 = N_gt_1m - I0 #Los susceptibles son la poblacion menos los que ya han sido infectados\n",
    "R0 = 0 #No hay recuperados inicialmente\n",
    "E0 = 0\n",
    "init = [S0, E0, I0, R0] # array de condiciones iniciales"
   ]
  },
  {
   "cell_type": "code",
   "execution_count": 62,
   "metadata": {},
   "outputs": [
    {
     "name": "stdout",
     "output_type": "stream",
     "text": [
      "[3.4032434670279947, 3.2844743245978645, 7.409308250906628]\n"
     ]
    }
   ],
   "source": [
    "method = \"SEIR\"\n",
    "msol_gt_1m = minimize(sumsq,[1,0.5,5],args=(datos_gt_reales,N_gt_1m,method,),method='Nelder-Mead') #utiliza la aproximacion de miniminizacion para encontrar los parametros reales\n",
    "msol_gt_1m.x #imprime los parametros ajustados\n",
    "\n",
    "beta,gamma,delta = msol_gt_1m.x #cargando los nuevos parametros\n",
    "params_gt_no_control = [beta,gamma,delta]\n",
    "print(params_gt_no_control)\n",
    "\n",
    "t_f = 200 #set de tiempo en dias\n",
    "t_i = 0\n",
    "sol_gt_1m = solve_ivp(SEIR,[t_i,t_f],init,args=(N_gt_1m,params_gt_no_control),t_eval=np.arange(t_i,t_f-2,0.2))"
   ]
  },
  {
   "cell_type": "code",
   "execution_count": 63,
   "metadata": {},
   "outputs": [
    {
     "data": {
      "image/png": "[encoded data removed]",
      "text/plain": [
       "<Figure size 432x288 with 2 Axes>"
      ]
     },
     "metadata": {
      "needs_background": "light"
     },
     "output_type": "display_data"
    },
    {
     "data": {
      "image/png": "[encoded data removed]",
      "text/plain": [
       "<Figure size 720x288 with 1 Axes>"
      ]
     },
     "metadata": {
      "needs_background": "light"
     },
     "output_type": "display_data"
    }
   ],
   "source": [
    "fig,ax1 = plt.subplots()\n",
    "\n",
    "#fig = plt.figure(figsize=(10,4))\n",
    "ax1.plot(sol_gt_1m.t,sol_gt_1m.y[0],\"b-\") #S\n",
    "ax1.tick_params(axis='y')\n",
    "ax1.legend([\"Susceptible\"])\n",
    "ax2 = ax1.twinx()  # instantiate a second axes that shares the same x-axis\n",
    "ax2.plot(sol_gt_1m.t,sol_gt_1m.y[3],\"r-\") #R\n",
    "ax2.legend([\"Recover\"])\n",
    "plt.title(\"Curvas modelo SEIR - Suscpetibles y recuperados - 1M\")\n",
    "plt.grid()\n",
    "plt.show()\n",
    "\n",
    "fig = plt.figure(figsize=(10,4))\n",
    "plt.plot(sol_gt_1m.t,sol_gt_1m.y[1],\"r-\") #E\n",
    "plt.plot(sol_gt_1m.t,sol_gt_1m.y[2],\"g-\") #I\n",
    "#plt.legend([\"Exposed\",\"Infected\"])\n",
    "plt.title(\"Curvas modelo SEIR - Expuestos e infectados - 1M\")\n",
    "plt.xlabel('Tiempo (dias)')\n",
    "plt.axvline(x=97, color='k', linestyle='--')\n",
    "plt.legend([\"Expuestos\",\"Infectados\",\"Día Actual\"])\n",
    "plt.grid()\n",
    "plt.savefig('Curva_EI_1M.png')"
   ]
  },
  {
   "cell_type": "code",
   "execution_count": 64,
   "metadata": {},
   "outputs": [
    {
     "data": {
      "image/png": "[encoded data removed]",
      "text/plain": [
       "<Figure size 720x288 with 1 Axes>"
      ]
     },
     "metadata": {
      "needs_background": "light"
     },
     "output_type": "display_data"
    }
   ],
   "source": [
    "beta,gamma,delta = msol_gt_1m.x #cargando los nuevos parametros\n",
    "params = [beta,gamma,delta]\n",
    "\n",
    "t_f = 110 #set de tiempo en dias\n",
    "t_i = 0\n",
    "sol_gt_1m = solve_ivp(SEIR,[t_i,t_f],init,args=(N_gt_1m,params),t_eval=np.arange(t_i,t_f-2,0.2))\n",
    "\n",
    "S = sol_gt_1m.y[0]\n",
    "E = sol_gt_1m.y[1]\n",
    "I = sol_gt_1m.y[2]\n",
    "R = sol_gt_1m.y[3]\n",
    "time = sol_gt_1m.t\n",
    "\n",
    "size = np.arange(0,len(datos_gt_reales),1)\n",
    "size2 = np.arange(0,len(datos_gt),1)\n",
    "\n",
    "f_date = date(2020, 3, 13)\n",
    "l_date = date(2020, 6, 18)\n",
    "delta = l_date - f_date\n",
    "\n",
    "fig = plt.figure(figsize=(10,4))\n",
    "plt.bar(size,datos_gt_reales) #R\n",
    "#plt.bar(size2,datos_gt) #R\n",
    "plt.plot(time,I,\"r-\") #I\n",
    "#plt.plot(time,S+E+I+R)\n",
    "plt.title(\"Comparacion entre el modelo y los datos - 1M\")\n",
    "plt.xlabel('Tiempo (dias)')\n",
    "plt.axvline(x=97, color='k', linestyle='--')\n",
    "plt.legend([\"Modelo\",\"Día Actual\",\"Datos MSPAS\"])\n",
    "plt.grid()\n",
    "plt.savefig('Casos_1m.png')"
   ]
  },
  {
   "cell_type": "markdown",
   "metadata": {},
   "source": [
    "## Modelo SEIR con 17 millones (población total)"
   ]
  },
  {
   "cell_type": "code",
   "execution_count": 65,
   "metadata": {},
   "outputs": [],
   "source": [
    "#Definicion de condiciones iniciales\n",
    "\n",
    "N_gt = 17e6  #Poblacion Guatemala\n",
    "\n",
    "I0 = 1 #Un infectado (para mejor aproximacion)\n",
    "S0 = N_gt - I0 #Los susceptibles son la poblacion menos los que ya han sido infectados\n",
    "R0 = 0 #No hay recuperados inicialmente\n",
    "E0 = 0\n",
    "init = [S0, E0, I0, R0] # array de condiciones iniciales"
   ]
  },
  {
   "cell_type": "code",
   "execution_count": null,
   "metadata": {},
   "outputs": [],
   "source": [
    "method = \"SEIR\"\n",
    "msol_gt = minimize(sumsq,[0.4,0.25,5],args=(datos_gt_reales,N_gt,method,),method='Nelder-Mead') #utiliza la aproximacion de miniminizacion para encontrar los parametros reales\n",
    "msol_gt.x #imprime los parametros ajustados\n",
    "\n",
    "beta,gamma,delta = msol_gt.x #cargando los nuevos parametros\n",
    "params_gt_no_control = [beta,gamma,delta]\n",
    "print(params_gt_no_control)\n",
    "\n",
    "t_f = 220 #set de tiempo en dias\n",
    "t_i = 0\n",
    "sol_gt = solve_ivp(SEIR,[t_i,t_f],init,args=(N_gt,params_gt_no_control),t_eval=np.arange(t_i,t_f-2,0.2))"
   ]
  },
  {
   "cell_type": "code",
   "execution_count": null,
   "metadata": {},
   "outputs": [],
   "source": [
    "fig,ax1 = plt.subplots()\n",
    "\n",
    "#fig = plt.figure(figsize=(10,4))\n",
    "ax1.plot(sol_gt.t,sol_gt.y[0],\"b-\") #S\n",
    "ax1.tick_params(axis='y')\n",
    "ax1.legend([\"Susceptible\"])\n",
    "ax2 = ax1.twinx()  # instantiate a second axes that shares the same x-axis\n",
    "ax2.plot(sol_gt.t,sol_gt.y[3],\"r-\") #R\n",
    "ax2.legend([\"Recover\"])\n",
    "plt.title(\"Curvas modelo SEIR\")\n",
    "plt.grid()\n",
    "plt.show()\n",
    "\n",
    "fig = plt.figure(figsize=(10,4))\n",
    "plt.plot(sol_gt.t,sol_gt.y[1],\"r-\") #E\n",
    "plt.plot(sol_gt.t,sol_gt.y[2],\"g-\") #I\n",
    "#plt.legend([\"Exposed\",\"Infected\"])\n",
    "plt.title(\"Curvas modelo SEIR - Expuestos e infectados - 17M\")\n",
    "plt.xlabel('Tiempo (dias)')\n",
    "plt.axvline(x=97, color='k', linestyle='--')\n",
    "plt.legend([\"Expuestos\",\"Infectados\",\"Día Actual\"])\n",
    "plt.grid()\n",
    "plt.savefig('Curva_EI_17M.png')"
   ]
  },
  {
   "cell_type": "code",
   "execution_count": null,
   "metadata": {},
   "outputs": [],
   "source": [
    "beta,gamma,delta = msol_gt.x #cargando los nuevos parametros\n",
    "params = [beta,gamma,delta]\n",
    "\n",
    "t_f = 100 #set de tiempo en dias\n",
    "t_i = 0\n",
    "sol_gt = solve_ivp(SEIR,[t_i,t_f],init,args=(N_gt,params),t_eval=np.arange(t_i,t_f-2,0.2))\n",
    "\n",
    "S = sol_gt.y[0]\n",
    "E = sol_gt.y[1]\n",
    "I = sol_gt.y[2]\n",
    "R = sol_gt.y[3]\n",
    "time = sol_gt.t\n",
    "\n",
    "size = np.arange(0,len(datos_gt_reales),1)\n",
    "size2 = np.arange(0,len(datos_gt),1)\n",
    "\n",
    "f_date = date(2020, 3, 13)\n",
    "l_date = date(2020, 6, 18)\n",
    "delta = l_date - f_date\n",
    "\n",
    "fig = plt.figure(figsize=(10,4))\n",
    "plt.bar(size,datos_gt_reales) #R\n",
    "#plt.bar(size2,datos_gt) #R\n",
    "plt.plot(time,I,\"r-\") #I\n",
    "#plt.plot(time,S+E+I+R)\n",
    "plt.title(\"Comparacion entre el modelo y los datos - 17M\")\n",
    "plt.xlabel('Tiempo (dias)')\n",
    "plt.axvline(x=97, color='k', linestyle='--')\n",
    "plt.legend([\"Modelo\",\"Día Actual\",\"Datos MSPAS\"])\n",
    "plt.grid()\n",
    "plt.savefig('Casos_17m.png')"
   ]
  },
  {
   "cell_type": "markdown",
   "metadata": {},
   "source": [
    "# Modelo SEIRD"
   ]
  },
  {
   "cell_type": "code",
   "execution_count": null,
   "metadata": {},
   "outputs": [],
   "source": [
    "#Definicion de condiciones iniciales\n",
    "\n",
    "N_gt = 1e6  #Poblacion Guatemala\n",
    "\n",
    "I0 = 1 #Un infectado (para mejor aproximacion)\n",
    "S0 = N_gt - I0 #Los susceptibles son la poblacion menos los que ya han sido infectados\n",
    "R0 = 0 #No hay recuperados inicialmente\n",
    "E0 = 0\n",
    "D0 = 0\n",
    "init = [S0, E0, I0, R0, D0] # array de condiciones iniciales"
   ]
  },
  {
   "cell_type": "code",
   "execution_count": null,
   "metadata": {},
   "outputs": [],
   "source": [
    "method = \"SEIRD\"\n",
    "msol_gt = minimize(sumsq,[0.4,0.25,5,0.1],args=(datos_gt_reales,N_gt,method,),method='Nelder-Mead') #utiliza la aproximacion de miniminizacion para encontrar los parametros reales\n",
    "msol_gt.x #imprime los parametros ajustados\n",
    "\n",
    "beta,gamma,delta,mu = msol_gt.x #cargando los nuevos parametros\n",
    "params_gt_no_control = [beta,gamma,delta, mu]\n",
    "print(params_gt_no_control)\n",
    "\n",
    "t_f = 350 #set de tiempo en dias\n",
    "t_i = 0\n",
    "sol_gt = solve_ivp(SEIRD,[t_i,t_f],init,args=(N_gt,params_gt_no_control),t_eval=np.arange(t_i,t_f-2,0.2))"
   ]
  },
  {
   "cell_type": "code",
   "execution_count": null,
   "metadata": {},
   "outputs": [],
   "source": [
    "fig,ax1 = plt.subplots()\n",
    "\n",
    "#fig = plt.figure(figsize=(10,4))\n",
    "ax1.plot(sol_gt.t,sol_gt.y[0],\"b-\") #S\n",
    "ax1.tick_params(axis='y')\n",
    "ax1.legend([\"Susceptible\"])\n",
    "ax2 = ax1.twinx()  # instantiate a second axes that shares the same x-axis\n",
    "ax2.plot(sol_gt.t,sol_gt.y[3],\"r-\") #R\n",
    "ax2.legend([\"Recover\"])\n",
    "plt.title(\"Curvas modelo SEIR\")\n",
    "plt.grid()\n",
    "plt.show()\n",
    "\n",
    "fig = plt.figure(figsize=(10,4))\n",
    "plt.plot(sol_gt.t,sol_gt.y[1],\"r-\") #E\n",
    "plt.plot(sol_gt.t,sol_gt.y[2],\"g-\") #I\n",
    "plt.legend([\"Exposed\",\"Infected\"])\n",
    "plt.title(\"Curvas modelo SEIR\")\n",
    "plt.grid()"
   ]
  },
  {
   "cell_type": "code",
   "execution_count": null,
   "metadata": {},
   "outputs": [],
   "source": [
    "beta,gamma,delta, mu = msol_gt.x #cargando los nuevos parametros\n",
    "params = [beta,gamma,delta, mu]\n",
    "print(params)\n",
    "\n",
    "t_f = 200 #set de tiempo en dias\n",
    "t_i = 0\n",
    "sol_gt = solve_ivp(SEIRD,[t_i,t_f],init,args=(N_gt,params),t_eval=np.arange(t_i,t_f-2,0.2))\n",
    "\n",
    "size = np.arange(0,len(datos_gt_reales),1)\n",
    "size2 = np.arange(0,len(datos_gt),1)\n",
    "\n",
    "plt.bar(size,datos_gt_reales) #R\n",
    "plt.bar(size2,datos_gt) #R\n",
    "plt.plot(sol_gt.t,sol_gt.y[2],\"r-\") #I\n",
    "plt.title(\"Fit data vs. Infectados\")\n",
    "plt.legend([\"Modelo\",\"Datos MSPAS\", \"Datos Harvar DV\"])\n",
    "plt.grid()"
   ]
  },
  {
   "cell_type": "code",
   "execution_count": null,
   "metadata": {},
   "outputs": [],
   "source": []
  }
 ],
 "metadata": {
  "kernelspec": {
   "display_name": "Python 3",
   "language": "python",
   "name": "python3"
  },
  "language_info": {
   "codemirror_mode": {
    "name": "ipython",
    "version": 3
   },
   "file_extension": ".py",
   "mimetype": "text/x-python",
   "name": "python",
   "nbconvert_exporter": "python",
   "pygments_lexer": "ipython3",
   "version": "3.7.6"
  }
 },
 "nbformat": 4,
 "nbformat_minor": 4
}
